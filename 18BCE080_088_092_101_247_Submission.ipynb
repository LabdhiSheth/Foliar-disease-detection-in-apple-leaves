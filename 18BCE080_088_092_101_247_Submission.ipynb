{
 "cells": [
  {
   "cell_type": "code",
   "execution_count": 1,
   "id": "wanted-budget",
   "metadata": {
    "execution": {
     "iopub.execute_input": "2021-04-30T06:27:47.750364Z",
     "iopub.status.busy": "2021-04-30T06:27:47.749744Z",
     "iopub.status.idle": "2021-04-30T06:27:57.590008Z",
     "shell.execute_reply": "2021-04-30T06:27:57.589449Z"
    },
    "papermill": {
     "duration": 9.863348,
     "end_time": "2021-04-30T06:27:57.590178",
     "exception": false,
     "start_time": "2021-04-30T06:27:47.726830",
     "status": "completed"
    },
    "tags": []
   },
   "outputs": [],
   "source": [
    "import os\n",
    "import gc\n",
    "import re\n",
    "\n",
    "import cv2\n",
    "import math\n",
    "import numpy as np\n",
    "import scipy as sp\n",
    "import pandas as pd\n",
    "\n",
    "import tensorflow as tf\n",
    "from tensorflow import keras\n",
    "import tensorflow_addons as tfa\n",
    "from IPython.display import SVG\n",
    "# import efficientnet.tfkeras as efn\n",
    "from keras.utils import plot_model\n",
    "import tensorflow.keras.layers as L\n",
    "from keras.utils import model_to_dot\n",
    "import tensorflow.keras.backend as K\n",
    "from tensorflow.keras.models import Model\n",
    "from kaggle_datasets import KaggleDatasets\n",
    "from tensorflow.keras.applications import ResNet50\n",
    "\n",
    "import seaborn as sns\n",
    "from tqdm import tqdm\n",
    "import matplotlib.cm as cm\n",
    "from sklearn import metrics\n",
    "import matplotlib.pyplot as plt\n",
    "from sklearn.utils import shuffle\n",
    "from sklearn.model_selection import train_test_split\n",
    "from sklearn.preprocessing import LabelEncoder\n",
    "from sklearn.preprocessing import MultiLabelBinarizer\n",
    "\n",
    "tqdm.pandas()\n",
    "import plotly.express as px\n",
    "import plotly.graph_objects as go\n",
    "import plotly.figure_factory as ff\n",
    "from plotly.subplots import make_subplots\n",
    "\n",
    "np.random.seed(0)\n",
    "tf.random.set_seed(0)\n",
    "\n",
    "import warnings\n",
    "warnings.filterwarnings(\"ignore\")"
   ]
  },
  {
   "cell_type": "code",
   "execution_count": 2,
   "id": "greatest-defendant",
   "metadata": {
    "execution": {
     "iopub.execute_input": "2021-04-30T06:27:57.614611Z",
     "iopub.status.busy": "2021-04-30T06:27:57.614038Z",
     "iopub.status.idle": "2021-04-30T06:27:57.930379Z",
     "shell.execute_reply": "2021-04-30T06:27:57.930759Z"
    },
    "papermill": {
     "duration": 0.332425,
     "end_time": "2021-04-30T06:27:57.930908",
     "exception": false,
     "start_time": "2021-04-30T06:27:57.598483",
     "status": "completed"
    },
    "tags": []
   },
   "outputs": [
    {
     "data": {
      "text/html": [
       "<div>\n",
       "<style scoped>\n",
       "    .dataframe tbody tr th:only-of-type {\n",
       "        vertical-align: middle;\n",
       "    }\n",
       "\n",
       "    .dataframe tbody tr th {\n",
       "        vertical-align: top;\n",
       "    }\n",
       "\n",
       "    .dataframe thead th {\n",
       "        text-align: right;\n",
       "    }\n",
       "</style>\n",
       "<table border=\"1\" class=\"dataframe\">\n",
       "  <thead>\n",
       "    <tr style=\"text-align: right;\">\n",
       "      <th></th>\n",
       "      <th>complex</th>\n",
       "      <th>frog_eye_leaf_spot</th>\n",
       "      <th>healthy</th>\n",
       "      <th>powdery_mildew</th>\n",
       "      <th>rust</th>\n",
       "      <th>scab</th>\n",
       "    </tr>\n",
       "  </thead>\n",
       "  <tbody>\n",
       "    <tr>\n",
       "      <th>0</th>\n",
       "      <td>0</td>\n",
       "      <td>0</td>\n",
       "      <td>1</td>\n",
       "      <td>0</td>\n",
       "      <td>0</td>\n",
       "      <td>0</td>\n",
       "    </tr>\n",
       "    <tr>\n",
       "      <th>1</th>\n",
       "      <td>1</td>\n",
       "      <td>1</td>\n",
       "      <td>0</td>\n",
       "      <td>0</td>\n",
       "      <td>0</td>\n",
       "      <td>1</td>\n",
       "    </tr>\n",
       "    <tr>\n",
       "      <th>2</th>\n",
       "      <td>0</td>\n",
       "      <td>0</td>\n",
       "      <td>0</td>\n",
       "      <td>0</td>\n",
       "      <td>0</td>\n",
       "      <td>1</td>\n",
       "    </tr>\n",
       "    <tr>\n",
       "      <th>3</th>\n",
       "      <td>0</td>\n",
       "      <td>0</td>\n",
       "      <td>0</td>\n",
       "      <td>0</td>\n",
       "      <td>0</td>\n",
       "      <td>1</td>\n",
       "    </tr>\n",
       "    <tr>\n",
       "      <th>4</th>\n",
       "      <td>1</td>\n",
       "      <td>0</td>\n",
       "      <td>0</td>\n",
       "      <td>0</td>\n",
       "      <td>0</td>\n",
       "      <td>0</td>\n",
       "    </tr>\n",
       "    <tr>\n",
       "      <th>...</th>\n",
       "      <td>...</td>\n",
       "      <td>...</td>\n",
       "      <td>...</td>\n",
       "      <td>...</td>\n",
       "      <td>...</td>\n",
       "      <td>...</td>\n",
       "    </tr>\n",
       "    <tr>\n",
       "      <th>18627</th>\n",
       "      <td>0</td>\n",
       "      <td>0</td>\n",
       "      <td>1</td>\n",
       "      <td>0</td>\n",
       "      <td>0</td>\n",
       "      <td>0</td>\n",
       "    </tr>\n",
       "    <tr>\n",
       "      <th>18628</th>\n",
       "      <td>0</td>\n",
       "      <td>0</td>\n",
       "      <td>0</td>\n",
       "      <td>0</td>\n",
       "      <td>0</td>\n",
       "      <td>1</td>\n",
       "    </tr>\n",
       "    <tr>\n",
       "      <th>18629</th>\n",
       "      <td>0</td>\n",
       "      <td>0</td>\n",
       "      <td>0</td>\n",
       "      <td>0</td>\n",
       "      <td>1</td>\n",
       "      <td>0</td>\n",
       "    </tr>\n",
       "    <tr>\n",
       "      <th>18630</th>\n",
       "      <td>0</td>\n",
       "      <td>1</td>\n",
       "      <td>0</td>\n",
       "      <td>0</td>\n",
       "      <td>0</td>\n",
       "      <td>1</td>\n",
       "    </tr>\n",
       "    <tr>\n",
       "      <th>18631</th>\n",
       "      <td>0</td>\n",
       "      <td>0</td>\n",
       "      <td>1</td>\n",
       "      <td>0</td>\n",
       "      <td>0</td>\n",
       "      <td>0</td>\n",
       "    </tr>\n",
       "  </tbody>\n",
       "</table>\n",
       "<p>18632 rows × 6 columns</p>\n",
       "</div>"
      ],
      "text/plain": [
       "       complex  frog_eye_leaf_spot  healthy  powdery_mildew  rust  scab\n",
       "0            0                   0        1               0     0     0\n",
       "1            1                   1        0               0     0     1\n",
       "2            0                   0        0               0     0     1\n",
       "3            0                   0        0               0     0     1\n",
       "4            1                   0        0               0     0     0\n",
       "...        ...                 ...      ...             ...   ...   ...\n",
       "18627        0                   0        1               0     0     0\n",
       "18628        0                   0        0               0     0     1\n",
       "18629        0                   0        0               0     1     0\n",
       "18630        0                   1        0               0     0     1\n",
       "18631        0                   0        1               0     0     0\n",
       "\n",
       "[18632 rows x 6 columns]"
      ]
     },
     "execution_count": 2,
     "metadata": {},
     "output_type": "execute_result"
    }
   ],
   "source": [
    "AUTO = tf.data.experimental.AUTOTUNE\n",
    "BATCH_SIZE = 16\n",
    "IMAGE_PATH = \"../input/plant-pathology-2021-fgvc8/train_images/\"\n",
    "# TEST_PATH = \"../input/plant-pathology-2020-fgvc7/test.csv\"\n",
    "TRAIN_PATH = \"../input/plant-pathology-2021-fgvc8/train.csv\"\n",
    "SUB_PATH = \"../input/plant-pathology-2021-fgvc8/sample_submission.csv\"\n",
    "\n",
    "IMSIZES = (224, 240, 260, 300, 380, 456, 528, 600)\n",
    "im_size = IMSIZES[7]\n",
    "\n",
    "sub = pd.read_csv(SUB_PATH)\n",
    "test_data = sub.copy()\n",
    "train_data = pd.read_csv(TRAIN_PATH)\n",
    "train_data['labels'] = train_data['labels'].apply(lambda string: string.split(' '))\n",
    "s = list(train_data['labels'])\n",
    "mlb = MultiLabelBinarizer()\n",
    "trainx = pd.DataFrame(mlb.fit_transform(s), columns=mlb.classes_, index=train_data.index)\n",
    "trainx"
   ]
  },
  {
   "cell_type": "code",
   "execution_count": null,
   "id": "thick-oakland",
   "metadata": {
    "papermill": {
     "duration": 0.007977,
     "end_time": "2021-04-30T06:27:57.947957",
     "exception": false,
     "start_time": "2021-04-30T06:27:57.939980",
     "status": "completed"
    },
    "tags": []
   },
   "outputs": [],
   "source": []
  },
  {
   "cell_type": "code",
   "execution_count": 3,
   "id": "generic-solution",
   "metadata": {
    "execution": {
     "iopub.execute_input": "2021-04-30T06:28:00.188419Z",
     "iopub.status.busy": "2021-04-30T06:28:00.186544Z",
     "iopub.status.idle": "2021-04-30T06:28:00.316573Z",
     "shell.execute_reply": "2021-04-30T06:28:00.315747Z"
    },
    "papermill": {
     "duration": 2.360632,
     "end_time": "2021-04-30T06:28:00.316713",
     "exception": false,
     "start_time": "2021-04-30T06:27:57.956081",
     "status": "completed"
    },
    "tags": []
   },
   "outputs": [],
   "source": [
    "def format_path(st):\n",
    "    return '../input/plant-pathology-2021-fgvc8/test_images/'+str(st)\n",
    "\n",
    "\n",
    "\n",
    "def decode_image(filename, label=None, image_size=(im_size, im_size)):\n",
    "    bits = tf.io.read_file(filename)\n",
    "    image = tf.image.decode_jpeg(bits, channels=3)\n",
    "    image = tf.cast(image, tf.float32) / 255.0\n",
    "    image = tf.image.resize(image, image_size)\n",
    "    \n",
    "    if label is None:\n",
    "        return image\n",
    "    else:\n",
    "        return image, label\n",
    "\n",
    "def data_augment(image, label=None):\n",
    "    image = tf.image.random_flip_left_right(image)\n",
    "    image = tf.image.random_flip_up_down(image)\n",
    "    \n",
    "    if label is None:\n",
    "        return image\n",
    "    else:\n",
    "        return image, label\n",
    "    \n",
    "    \n",
    "test_paths = test_data.image.apply(format_path).values\n",
    "\n",
    "\n",
    "test_dataset = (\n",
    "    tf.data.Dataset\n",
    "    .from_tensor_slices(test_paths)\n",
    "    .map(decode_image, num_parallel_calls=AUTO)\n",
    "    .batch(BATCH_SIZE)\n",
    ")\n",
    "\n",
    "# valid_dataset = (\n",
    "#     tf.data.Dataset\n",
    "#     .from_tensor_slices((valid_paths, valid_labels))\n",
    "#     .map(decode_image, num_parallel_calls=AUTO)\n",
    "#     .batch(BATCH_SIZE)\n",
    "#     .cache()\n",
    "#     .prefetch(AUTO)\n",
    "# )\n"
   ]
  },
  {
   "cell_type": "code",
   "execution_count": 4,
   "id": "included-ethics",
   "metadata": {
    "execution": {
     "iopub.execute_input": "2021-04-30T06:28:00.338759Z",
     "iopub.status.busy": "2021-04-30T06:28:00.338248Z",
     "iopub.status.idle": "2021-04-30T06:28:00.343411Z",
     "shell.execute_reply": "2021-04-30T06:28:00.344241Z"
    },
    "papermill": {
     "duration": 0.018881,
     "end_time": "2021-04-30T06:28:00.344373",
     "exception": false,
     "start_time": "2021-04-30T06:28:00.325492",
     "status": "completed"
    },
    "tags": []
   },
   "outputs": [
    {
     "data": {
      "text/plain": [
       "{0: 'complex',\n",
       " 1: 'frog_eye_leaf_spot',\n",
       " 2: 'healthy',\n",
       " 3: 'powdery_mildew',\n",
       " 4: 'rust',\n",
       " 5: 'scab'}"
      ]
     },
     "execution_count": 4,
     "metadata": {},
     "output_type": "execute_result"
    }
   ],
   "source": [
    "# labels = (train_data.class_indices)\n",
    "# labels = dict((v,k) for k,v in labels.items())\n",
    "labels = {0: 'complex', 1: 'frog_eye_leaf_spot', 2: 'healthy', 3: 'powdery_mildew', 4: 'rust', 5: 'scab'}\n",
    "labels"
   ]
  },
  {
   "cell_type": "code",
   "execution_count": 5,
   "id": "adopted-extension",
   "metadata": {
    "execution": {
     "iopub.execute_input": "2021-04-30T06:28:00.372713Z",
     "iopub.status.busy": "2021-04-30T06:28:00.371941Z",
     "iopub.status.idle": "2021-04-30T06:28:12.129214Z",
     "shell.execute_reply": "2021-04-30T06:28:12.130262Z"
    },
    "papermill": {
     "duration": 11.77731,
     "end_time": "2021-04-30T06:28:12.130467",
     "exception": false,
     "start_time": "2021-04-30T06:28:00.353157",
     "status": "completed"
    },
    "tags": []
   },
   "outputs": [
    {
     "name": "stdout",
     "output_type": "stream",
     "text": [
      "Model: \"sequential\"\n",
      "_________________________________________________________________\n",
      "Layer (type)                 Output Shape              Param #   \n",
      "=================================================================\n",
      "efficientnetb7 (Functional)  (None, 19, 19, 2560)      64097687  \n",
      "_________________________________________________________________\n",
      "global_average_pooling2d (Gl (None, 2560)              0         \n",
      "_________________________________________________________________\n",
      "dense_top (Dense)            (None, 6)                 15366     \n",
      "=================================================================\n",
      "Total params: 64,113,053\n",
      "Trainable params: 63,802,326\n",
      "Non-trainable params: 310,727\n",
      "_________________________________________________________________\n"
     ]
    }
   ],
   "source": [
    "model = tf.keras.applications.EfficientNetB7(weights=None, include_top=False, input_shape=(im_size, im_size, 3))\n",
    "final_model =  tf.keras.Sequential([\n",
    "model,\n",
    "tf.keras.layers.GlobalAveragePooling2D(),\n",
    "keras.layers.Dense(6, \n",
    "kernel_initializer=keras.initializers.RandomUniform(seed=42),\n",
    "bias_initializer=keras.initializers.Zeros(), name='dense_top', activation='sigmoid')\n",
    "])\n",
    "final_model.load_weights(\"../input/plantpathology2021trainedmodels/EffNetB7_EXP2_42.h5\")\n",
    "final_model.summary()\n"
   ]
  },
  {
   "cell_type": "code",
   "execution_count": 6,
   "id": "macro-patio",
   "metadata": {
    "execution": {
     "iopub.execute_input": "2021-04-30T06:28:12.171022Z",
     "iopub.status.busy": "2021-04-30T06:28:12.169695Z",
     "iopub.status.idle": "2021-04-30T06:28:20.700184Z",
     "shell.execute_reply": "2021-04-30T06:28:20.699706Z"
    },
    "papermill": {
     "duration": 8.552964,
     "end_time": "2021-04-30T06:28:20.700317",
     "exception": false,
     "start_time": "2021-04-30T06:28:12.147353",
     "status": "completed"
    },
    "tags": []
   },
   "outputs": [
    {
     "name": "stdout",
     "output_type": "stream",
     "text": [
      "1/1 [==============================] - 8s 8s/step\n"
     ]
    }
   ],
   "source": [
    "TTA = 3 \n",
    "preds = []\n",
    "\n",
    "# for i in range(TTA):\n",
    "# #     test_set.reset()\n",
    "#     preds.append(final_model.predict(test_dataset))\n",
    "    \n",
    "# preds = np.mean(np.array(preds), axis=0)\n",
    "\n",
    "\n",
    "preds =final_model.predict(test_dataset, verbose=1)"
   ]
  },
  {
   "cell_type": "code",
   "execution_count": 7,
   "id": "julian-collapse",
   "metadata": {
    "execution": {
     "iopub.execute_input": "2021-04-30T06:28:20.727864Z",
     "iopub.status.busy": "2021-04-30T06:28:20.727286Z",
     "iopub.status.idle": "2021-04-30T06:28:20.733895Z",
     "shell.execute_reply": "2021-04-30T06:28:20.733392Z"
    },
    "papermill": {
     "duration": 0.023267,
     "end_time": "2021-04-30T06:28:20.734033",
     "exception": false,
     "start_time": "2021-04-30T06:28:20.710766",
     "status": "completed"
    },
    "tags": []
   },
   "outputs": [
    {
     "data": {
      "text/plain": [
       "array([[2.9631807e-02, 2.5483686e-02, 1.2463584e-03, 9.3232127e-05,\n",
       "        1.6777644e-01, 6.2818205e-01],\n",
       "       [1.9673605e-02, 9.9696141e-01, 9.4358529e-07, 1.9176910e-04,\n",
       "        1.0203900e-03, 8.9487267e-01],\n",
       "       [3.7119503e-04, 9.9935883e-01, 6.5380241e-06, 1.4902595e-04,\n",
       "        8.2765399e-03, 3.4445251e-04]], dtype=float32)"
      ]
     },
     "execution_count": 7,
     "metadata": {},
     "output_type": "execute_result"
    }
   ],
   "source": [
    "preds"
   ]
  },
  {
   "cell_type": "code",
   "execution_count": 8,
   "id": "pleased-assembly",
   "metadata": {
    "execution": {
     "iopub.execute_input": "2021-04-30T06:28:20.769951Z",
     "iopub.status.busy": "2021-04-30T06:28:20.769096Z",
     "iopub.status.idle": "2021-04-30T06:28:20.772016Z",
     "shell.execute_reply": "2021-04-30T06:28:20.772652Z"
    },
    "papermill": {
     "duration": 0.026449,
     "end_time": "2021-04-30T06:28:20.772858",
     "exception": false,
     "start_time": "2021-04-30T06:28:20.746409",
     "status": "completed"
    },
    "tags": []
   },
   "outputs": [
    {
     "name": "stdout",
     "output_type": "stream",
     "text": [
      "[5] sadfgs\n",
      "[1, 5] sadfgs\n",
      "[1] sadfgs\n",
      "[[5], [1, 5], [1]]\n",
      "['scab', 'frog_eye_leaf_spot scab', 'frog_eye_leaf_spot']\n"
     ]
    }
   ],
   "source": [
    "preds = preds.tolist()\n",
    "# threshold = {0: 0.33,\n",
    "#              5: 0.35,\n",
    "#              1: 0.7,\n",
    "#              3: 0.18,\n",
    "#              4: 0.53}\n",
    "\n",
    "thres = [0.33,0.45,0.3,0.18,0.5,0.35]\n",
    "\n",
    "indices = []\n",
    "for pred in preds:\n",
    "    temp = []\n",
    "    for i,category in enumerate(pred):\n",
    "        if category>=thres[i]:\n",
    "            temp.append(i)\n",
    "    if temp!=[]:\n",
    "        print(temp, \"sadfgs\")\n",
    "        if 2 in temp:\n",
    "            indices.append([2])\n",
    "        else:\n",
    "            indices.append(temp)\n",
    "    else:\n",
    "        temp.append(np.argmax(pred))\n",
    "        indices.append(temp)\n",
    "    \n",
    "print(indices)\n",
    "\n",
    "\n",
    "\n",
    "testlabels = []\n",
    "\n",
    "\n",
    "for image in indices:\n",
    "    temp = []\n",
    "    for i in image:\n",
    "        temp.append(str(labels[i]))\n",
    "    testlabels.append(' '.join(temp))\n",
    "\n",
    "print(testlabels)"
   ]
  },
  {
   "cell_type": "code",
   "execution_count": 9,
   "id": "great-preparation",
   "metadata": {
    "execution": {
     "iopub.execute_input": "2021-04-30T06:28:20.800180Z",
     "iopub.status.busy": "2021-04-30T06:28:20.799464Z",
     "iopub.status.idle": "2021-04-30T06:28:20.814259Z",
     "shell.execute_reply": "2021-04-30T06:28:20.813823Z"
    },
    "papermill": {
     "duration": 0.029722,
     "end_time": "2021-04-30T06:28:20.814376",
     "exception": false,
     "start_time": "2021-04-30T06:28:20.784654",
     "status": "completed"
    },
    "tags": []
   },
   "outputs": [
    {
     "data": {
      "text/html": [
       "<div>\n",
       "<style scoped>\n",
       "    .dataframe tbody tr th:only-of-type {\n",
       "        vertical-align: middle;\n",
       "    }\n",
       "\n",
       "    .dataframe tbody tr th {\n",
       "        vertical-align: top;\n",
       "    }\n",
       "\n",
       "    .dataframe thead th {\n",
       "        text-align: right;\n",
       "    }\n",
       "</style>\n",
       "<table border=\"1\" class=\"dataframe\">\n",
       "  <thead>\n",
       "    <tr style=\"text-align: right;\">\n",
       "      <th></th>\n",
       "      <th>image</th>\n",
       "      <th>labels</th>\n",
       "    </tr>\n",
       "  </thead>\n",
       "  <tbody>\n",
       "    <tr>\n",
       "      <th>0</th>\n",
       "      <td>85f8cb619c66b863.jpg</td>\n",
       "      <td>scab</td>\n",
       "    </tr>\n",
       "    <tr>\n",
       "      <th>1</th>\n",
       "      <td>ad8770db05586b59.jpg</td>\n",
       "      <td>frog_eye_leaf_spot scab</td>\n",
       "    </tr>\n",
       "    <tr>\n",
       "      <th>2</th>\n",
       "      <td>c7b03e718489f3ca.jpg</td>\n",
       "      <td>frog_eye_leaf_spot</td>\n",
       "    </tr>\n",
       "  </tbody>\n",
       "</table>\n",
       "</div>"
      ],
      "text/plain": [
       "                  image                   labels\n",
       "0  85f8cb619c66b863.jpg                     scab\n",
       "1  ad8770db05586b59.jpg  frog_eye_leaf_spot scab\n",
       "2  c7b03e718489f3ca.jpg       frog_eye_leaf_spot"
      ]
     },
     "execution_count": 9,
     "metadata": {},
     "output_type": "execute_result"
    }
   ],
   "source": [
    "sub['labels'] = testlabels\n",
    "sub.to_csv('submission.csv', index=False)\n",
    "sub"
   ]
  },
  {
   "cell_type": "code",
   "execution_count": 10,
   "id": "injured-belfast",
   "metadata": {
    "execution": {
     "iopub.execute_input": "2021-04-30T06:28:20.840207Z",
     "iopub.status.busy": "2021-04-30T06:28:20.839504Z",
     "iopub.status.idle": "2021-04-30T06:28:20.842591Z",
     "shell.execute_reply": "2021-04-30T06:28:20.842174Z"
    },
    "papermill": {
     "duration": 0.017309,
     "end_time": "2021-04-30T06:28:20.842691",
     "exception": false,
     "start_time": "2021-04-30T06:28:20.825382",
     "status": "completed"
    },
    "tags": []
   },
   "outputs": [],
   "source": [
    "# pred_string = []\n",
    "# for line in preds:\n",
    "#     s = ''\n",
    "#     for i in threshold.keys():\n",
    "#         if line[i] > threshold[i]:\n",
    "#             s = s + labels[i] + ' '\n",
    "    \n",
    "#     if s == '': \n",
    "#         s = labels[2]\n",
    "#     pred_string.append(s)\n",
    "\n",
    "# sub['labels'] = pred_string\n",
    "# sub.to_csv('submission.csv', index=False)\n",
    "# sub"
   ]
  },
  {
   "cell_type": "code",
   "execution_count": null,
   "id": "oriented-utility",
   "metadata": {
    "papermill": {
     "duration": 0.010823,
     "end_time": "2021-04-30T06:28:20.864635",
     "exception": false,
     "start_time": "2021-04-30T06:28:20.853812",
     "status": "completed"
    },
    "tags": []
   },
   "outputs": [],
   "source": []
  }
 ],
 "metadata": {
  "kernelspec": {
   "display_name": "Python 3",
   "language": "python",
   "name": "python3"
  },
  "language_info": {
   "codemirror_mode": {
    "name": "ipython",
    "version": 3
   },
   "file_extension": ".py",
   "mimetype": "text/x-python",
   "name": "python",
   "nbconvert_exporter": "python",
   "pygments_lexer": "ipython3",
   "version": "3.7.10"
  },
  "papermill": {
   "default_parameters": {},
   "duration": 43.718513,
   "end_time": "2021-04-30T06:28:24.470100",
   "environment_variables": {},
   "exception": null,
   "input_path": "__notebook__.ipynb",
   "output_path": "__notebook__.ipynb",
   "parameters": {},
   "start_time": "2021-04-30T06:27:40.751587",
   "version": "2.3.3"
  }
 },
 "nbformat": 4,
 "nbformat_minor": 5
}
